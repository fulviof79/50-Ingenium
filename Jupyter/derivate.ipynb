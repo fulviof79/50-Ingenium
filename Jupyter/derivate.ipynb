{
 "cells": [
  {
   "cell_type": "code",
   "execution_count": 31,
   "metadata": {},
   "outputs": [],
   "source": [
    "import numpy as np\n",
    "import matplotlib.pyplot as plt\n",
    "\n",
    "\n"
   ]
  },
  {
   "cell_type": "code",
   "execution_count": 52,
   "metadata": {},
   "outputs": [
    {
     "data": {
      "image/png": "[encoded data removed]",
      "text/plain": [
       "<Figure size 432x288 with 1 Axes>"
      ]
     },
     "metadata": {
      "needs_background": "light"
     },
     "output_type": "display_data"
    }
   ],
   "source": [
    "funzione=np.poly1d([3,3,1,2])\n",
    "derivata=funzione.deriv()\n",
    "x=np.linspace(-2,2,100)\n",
    "\n",
    "\n",
    "plt.plot(x,funzione(x), 'b', x , derivata(x),'r')\n",
    "plt.axis([-2, 2, -5, 5])\n",
    "plt.grid()\n",
    "plt.show()"
   ]
  },
  {
   "cell_type": "code",
   "execution_count": 28,
   "metadata": {},
   "outputs": [
    {
     "data": {
      "text/plain": [
       "2"
      ]
     },
     "execution_count": 28,
     "metadata": {},
     "output_type": "execute_result"
    }
   ],
   "source": [
    "funzione(0)"
   ]
  },
  {
   "cell_type": "code",
   "execution_count": 17,
   "metadata": {},
   "outputs": [
    {
     "data": {
      "text/plain": [
       "array([1.00000000e+02, 9.60004081e+01, 9.20824406e+01, 8.82460973e+01,\n",
       "       8.44913784e+01, 8.08182838e+01, 7.72268136e+01, 7.37169677e+01,\n",
       "       7.02887460e+01, 6.69421488e+01, 6.36771758e+01, 6.04938272e+01,\n",
       "       5.73921028e+01, 5.43720029e+01, 5.14335272e+01, 4.85766758e+01,\n",
       "       4.58014488e+01, 4.31078461e+01, 4.04958678e+01, 3.79655137e+01,\n",
       "       3.55167840e+01, 3.31496786e+01, 3.08641975e+01, 2.86603408e+01,\n",
       "       2.65381084e+01, 2.44975003e+01, 2.25385165e+01, 2.06611570e+01,\n",
       "       1.88654219e+01, 1.71513111e+01, 1.55188246e+01, 1.39679625e+01,\n",
       "       1.24987246e+01, 1.11111111e+01, 9.80512193e+00, 8.58075707e+00,\n",
       "       7.43801653e+00, 6.37690032e+00, 5.39740843e+00, 4.49954086e+00,\n",
       "       3.68329762e+00, 2.94867871e+00, 2.29568411e+00, 1.72431385e+00,\n",
       "       1.23456790e+00, 8.26446281e-01, 4.99948985e-01, 2.55076013e-01,\n",
       "       9.18273646e-02, 1.02030405e-02, 1.02030405e-02, 9.18273646e-02,\n",
       "       2.55076013e-01, 4.99948985e-01, 8.26446281e-01, 1.23456790e+00,\n",
       "       1.72431385e+00, 2.29568411e+00, 2.94867871e+00, 3.68329762e+00,\n",
       "       4.49954086e+00, 5.39740843e+00, 6.37690032e+00, 7.43801653e+00,\n",
       "       8.58075707e+00, 9.80512193e+00, 1.11111111e+01, 1.24987246e+01,\n",
       "       1.39679625e+01, 1.55188246e+01, 1.71513111e+01, 1.88654219e+01,\n",
       "       2.06611570e+01, 2.25385165e+01, 2.44975003e+01, 2.65381084e+01,\n",
       "       2.86603408e+01, 3.08641975e+01, 3.31496786e+01, 3.55167840e+01,\n",
       "       3.79655137e+01, 4.04958678e+01, 4.31078461e+01, 4.58014488e+01,\n",
       "       4.85766758e+01, 5.14335272e+01, 5.43720029e+01, 5.73921028e+01,\n",
       "       6.04938272e+01, 6.36771758e+01, 6.69421488e+01, 7.02887460e+01,\n",
       "       7.37169677e+01, 7.72268136e+01, 8.08182838e+01, 8.44913784e+01,\n",
       "       8.82460973e+01, 9.20824406e+01, 9.60004081e+01, 1.00000000e+02])"
      ]
     },
     "execution_count": 17,
     "metadata": {},
     "output_type": "execute_result"
    }
   ],
   "source": [
    "funct(x)"
   ]
  },
  {
   "cell_type": "code",
   "execution_count": null,
   "metadata": {},
   "outputs": [],
   "source": []
  }
 ],
 "metadata": {
  "kernelspec": {
   "display_name": "Python 3.9.13 ('python39')",
   "language": "python",
   "name": "python3"
  },
  "language_info": {
   "codemirror_mode": {
    "name": "ipython",
    "version": 3
   },
   "file_extension": ".py",
   "mimetype": "text/x-python",
   "name": "python",
   "nbconvert_exporter": "python",
   "pygments_lexer": "ipython3",
   "version": "3.9.13"
  },
  "orig_nbformat": 4,
  "vscode": {
   "interpreter": {
    "hash": "2368ee1c18732c0a8d4c9efb101122be1282a5cc3c81896a60868bc317cef0ac"
   }
  }
 },
 "nbformat": 4,
 "nbformat_minor": 2
}
