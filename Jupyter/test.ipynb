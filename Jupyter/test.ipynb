{
 "cells": [
  {
   "cell_type": "code",
   "execution_count": null,
   "metadata": {},
   "outputs": [],
   "source": [
    "import handcalcs.render"
   ]
  },
  {
   "cell_type": "code",
   "execution_count": null,
   "metadata": {},
   "outputs": [],
   "source": [
    "\n",
    " \n",
    "x = 5\n",
    "y = 6\n",
    " \n",
    "# run the code below in a new Jupyter cell\n"
   ]
  },
  {
   "cell_type": "code",
   "execution_count": null,
   "metadata": {},
   "outputs": [],
   "source": [
    "%%render\n",
    "z = x + y"
   ]
  },
  {
   "cell_type": "code",
   "execution_count": null,
   "metadata": {},
   "outputs": [],
   "source": [
    "%%render \n",
    "u= x ** y"
   ]
  },
  {
   "cell_type": "code",
   "execution_count": null,
   "metadata": {},
   "outputs": [],
   "source": [
    "import numpy as np\n",
    "import matplotlib.pyplot as plt\n",
    "\n",
    "\n",
    "x=np.arange(1,5)\n",
    "y= [10,21,13,42]\n",
    "\n",
    "\n",
    "nx=np.array(x)\n",
    "ny=np.array(y)\n",
    "\n",
    "nx\n"
   ]
  },
  {
   "cell_type": "code",
   "execution_count": null,
   "metadata": {},
   "outputs": [],
   "source": [
    "\n",
    "plt.scatter(nx,ny, marker='o')\n",
    "plt.xlim(-1,5)\n",
    "plt.ylim(0,50)\n",
    "\n",
    "plt.minorticks_on()\n",
    "plt.grid(axis='both',which='both')\n",
    "plt.tick_params(grid_color='r')\n",
    "plt.xlabel('Input');\n",
    "plt.ylabel('Output')\n",
    "plt.title('Scatter')\n",
    "\n",
    "plt.show()"
   ]
  },
  {
   "cell_type": "code",
   "execution_count": null,
   "metadata": {},
   "outputs": [],
   "source": []
  },
  {
   "cell_type": "code",
   "execution_count": null,
   "metadata": {},
   "outputs": [],
   "source": [
    "import numpy as np\n",
    "import matplotlib.pyplot as plt\n",
    "\n",
    "def function_to_plot(x_data):\n",
    "    \n",
    "    #y_data=np.sin(x_data)\n",
    "\n",
    "    p_coeff=[4,3,2,4,-10]\n",
    "    polynomial=np.poly1d(p_coeff)\n",
    "    y_data=polynomial(x_data)\n",
    "    return y_data\n",
    "\n",
    "fig, ax = plt.subplots()\n",
    "x_data=np.linspace(-10,10,100)\n",
    "\n",
    "\n",
    "y_data=function_to_plot(x_data)\n",
    "\n",
    "plt.plot(x_data,y_data)\n",
    "plt.scatter(x_data,y_data,marker='o', color='r')\n",
    "plt.grid('both')\n",
    "plt.xlim(-5,5)\n",
    "plt.ylim(-15,15)\n",
    "ax.axhline(y=0, color='k')\n",
    "ax.axvline(x=0, color='k');\n",
    "\n",
    "dx=0.001\n",
    "y_derivative= (function_to_plot(x_data + dx) - function_to_plot(x_data)) / dx\n",
    "plt.plot(x_data, y_derivative, 'g')\n",
    "\n",
    "fig.set_figheight(10)\n",
    "fig.set_figwidth(10)\n"
   ]
  },
  {
   "cell_type": "markdown",
   "metadata": {},
   "source": [
    "With Ipywidgets"
   ]
  },
  {
   "cell_type": "code",
   "execution_count": 7,
   "metadata": {},
   "outputs": [
    {
     "data": {
      "application/vnd.jupyter.widget-view+json": {
       "model_id": "12df3532b4144f2786aca7856bd3d801",
       "version_major": 2,
       "version_minor": 0
      },
      "text/plain": [
       "interactive(children=(IntSlider(value=-10, description='xmin:', min=-100), IntSlider(value=10, description='xm…"
      ]
     },
     "metadata": {},
     "output_type": "display_data"
    }
   ],
   "source": [
    "import ipywidgets as widgets\n",
    "import numpy as np\n",
    "import matplotlib.pyplot as plt\n",
    "\n",
    "def function_to_plot(x_data):\n",
    "    \n",
    "    #y_data=np.sin(x_data)\n",
    "\n",
    "    p_coeff=[4,3,2,4,-10]\n",
    "    polynomial=np.poly1d(p_coeff)\n",
    "    y_data=polynomial(x_data)\n",
    "    return y_data\n",
    "\n",
    "\n",
    "def interactive_plot(xmin,xmax,ymin,ymax):\n",
    "    \n",
    "    fig, ax = plt.subplots()\n",
    "    x_data=np.linspace(-10,10,100)\n",
    "\n",
    "\n",
    "    y_data=function_to_plot(x_data)\n",
    "\n",
    "    plt.plot(x_data,y_data,label='Funzione')\n",
    "    plt.scatter(x_data,y_data,marker='o', color='r')\n",
    "    plt.grid('both')\n",
    "    plt.xlim(xmin,xmax)\n",
    "    plt.ylim(ymin,ymax)\n",
    "    ax.axhline(y=0, color='k')\n",
    "    ax.axvline(x=0, color='k');\n",
    "\n",
    "    dx=0.0001\n",
    "    y_derivative= (function_to_plot(x_data + dx) - function_to_plot(x_data)) / dx\n",
    "    plt.plot(x_data, y_derivative, 'g',label='Derivata')\n",
    "    ax.legend()\n",
    "    fig.set_figheight(10)\n",
    "    fig.set_figwidth(10)\n",
    "    \n",
    "interactive_plot_widget = widgets.interactive(interactive_plot, \n",
    "                xmin = widgets.IntSlider(\n",
    "                                value=-10,\n",
    "                                min=-100,\n",
    "                                max=100,\n",
    "                                step=1,\n",
    "                                description='xmin:'\n",
    "                                ),\n",
    "                xmax = widgets.IntSlider(\n",
    "                                value=10,\n",
    "                                min=-100,\n",
    "                                max=100,\n",
    "                                step=1,\n",
    "                                description='xmax:'\n",
    "                                ),\n",
    "                ymin = widgets.IntSlider(\n",
    "                                value=-10,\n",
    "                                min=-100,\n",
    "                                max=100,\n",
    "                                step=1,\n",
    "                                description='ymin:'\n",
    "                                ),  \n",
    "                ymax = widgets.IntSlider(\n",
    "                                value=10,\n",
    "                                min=-100,\n",
    "                                max=100,\n",
    "                                step=1,\n",
    "                                description='ymax:'\n",
    "                                ),\n",
    "              \n",
    "                )\n",
    "    \n",
    "interactive_plot_widget"
   ]
  },
  {
   "cell_type": "code",
   "execution_count": null,
   "metadata": {},
   "outputs": [],
   "source": []
  }
 ],
 "metadata": {
  "kernelspec": {
   "display_name": "Python 3.9.13 ('python39')",
   "language": "python",
   "name": "python3"
  },
  "language_info": {
   "codemirror_mode": {
    "name": "ipython",
    "version": 3
   },
   "file_extension": ".py",
   "mimetype": "text/x-python",
   "name": "python",
   "nbconvert_exporter": "python",
   "pygments_lexer": "ipython3",
   "version": "3.9.13"
  },
  "orig_nbformat": 4,
  "vscode": {
   "interpreter": {
    "hash": "2368ee1c18732c0a8d4c9efb101122be1282a5cc3c81896a60868bc317cef0ac"
   }
  }
 },
 "nbformat": 4,
 "nbformat_minor": 2
}
