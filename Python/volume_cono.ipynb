{
 "cells": [
  {
   "cell_type": "code",
   "execution_count": 1,
   "metadata": {},
   "outputs": [],
   "source": [
    "import matplotlib.pyplot as plt\n",
    "import numpy as np\n",
    "\n",
    "\n"
   ]
  },
  {
   "attachments": {},
   "cell_type": "markdown",
   "metadata": {},
   "source": [
    "# Volume cono \n",
    "\n",
    "raggio $R$ e altezza $h$\n",
    "\n",
    "\n",
    "\n",
    "ad una distanza $x$ dal vertice il disco avrà una raggio $R(x)=\\frac{R}{h}x$\n",
    "\n",
    "quindi un'area $A(x)=\\pi  \\left(\\frac{R}{h}x\\right)^2=\\pi \\frac{R^2}{h^2}x^2$"
   ]
  },
  {
   "attachments": {},
   "cell_type": "markdown",
   "metadata": {},
   "source": [
    "## Approssimazione numerica\n",
    "\n",
    "`radius` : raggio della base del cono\n",
    "\n",
    "`height`: altezza del cono\n",
    "\n",
    "`area(radius,height,x)`: area del disco a distanza $x$ dal vertice del cono\n",
    "\n",
    "`volume(radius,height,slices)`: volume del cono di raggio di base `radius` altezza `height` suddiviso in `slices` (precisione)"
   ]
  },
  {
   "cell_type": "code",
   "execution_count": 2,
   "metadata": {},
   "outputs": [],
   "source": [
    "\n",
    "\n",
    "def disc_area(radius,height,x):\n",
    "    '''\n",
    "    Ritorna l'area della sezione (disco) a distanza x dal vertice\n",
    "    '''\n",
    "    return (np.pi * radius**2 / height **2 * x**2)\n",
    "\n",
    "def volume_out(radius,height,slices):\n",
    "    x=np.linspace(start=height,stop=0,num=slices, endpoint=False)\n",
    "    \n",
    "    area_disco = disc_area(radius,height,x)\n",
    "    volume_cilindro=area_disco*x[-1]\n",
    "    return   volume_cilindro.sum()\n",
    "\n",
    "def volume_in(radius,height,slices):\n",
    "    x=np.linspace(start=0,stop=height,num=slices,endpoint=False)\n",
    "    \n",
    "    area_disco = disc_area(radius,height,x)\n",
    "    volume_cilindro=area_disco*x[1]\n",
    "    return   volume_cilindro.sum()"
   ]
  },
  {
   "cell_type": "code",
   "execution_count": 3,
   "metadata": {},
   "outputs": [
    {
     "name": "stdout",
     "output_type": "stream",
     "text": [
      "Volume con dischi esterni = 104.71991220235621  \n",
      " Volume con dischi interni =104.71959804007946 \n",
      " Media =104.71975512121784\n"
     ]
    }
   ],
   "source": [
    "radius = 5\n",
    "height= 4\n",
    "precision=10**6\n",
    "v_out=volume_out(radius,height,precision)\n",
    "v_in=volume_in(radius,height,precision)\n",
    "v_average=(volume_out(radius,height,precision)+volume_in(radius,height,precision))/2\n",
    "\n",
    "print(\"Volume con dischi esterni = {}  \\n Volume con dischi interni ={} \\n Media ={}\".format(v_out,v_in,v_average))"
   ]
  },
  {
   "cell_type": "code",
   "execution_count": 4,
   "metadata": {},
   "outputs": [
    {
     "data": {
      "text/plain": [
       "<matplotlib.collections.PathCollection at 0x175ee1e71c0>"
      ]
     },
     "execution_count": 4,
     "metadata": {},
     "output_type": "execute_result"
    },
    {
     "data": {
      "image/png": "[encoded data removed]",
      "text/plain": [
       "<Figure size 432x288 with 1 Axes>"
      ]
     },
     "metadata": {
      "needs_background": "light"
     },
     "output_type": "display_data"
    }
   ],
   "source": [
    "\n",
    "slices=50\n",
    "x=np.linspace(start=height,stop=0,num=slices,endpoint=False)\n",
    "\n",
    "plt.scatter(x,disc_area(radius,height,x))"
   ]
  },
  {
   "attachments": {},
   "cell_type": "markdown",
   "metadata": {},
   "source": [
    "# Integrale\n",
    "\n",
    "L'area del disco a distanza $x$ dal vertice è dunque $A(x,R,h)=\\pi \\frac{R^2}{h^2}x^2$\n",
    "\n",
    "Il volume $V(R,h)=\\int_0^{h}A(x)dx= \\int_0^{h}\\pi \\frac{R^2}{h^2}x^2 =\\pi \\frac{R^2}{h^2} \\int_0^{h} x^2 dx=\\pi \\frac{R^2}{h^2} \\left[ \\frac{x^3}{3}\\right]_0^{h}=\\pi \\frac{R^2}{h^2} \\cdot \\frac{h^3}{3}=\\frac{1}{3}\\pi R^2 h$"
   ]
  },
  {
   "cell_type": "code",
   "execution_count": null,
   "metadata": {},
   "outputs": [],
   "source": []
  },
  {
   "cell_type": "code",
   "execution_count": null,
   "metadata": {},
   "outputs": [],
   "source": []
  }
 ],
 "metadata": {
  "kernelspec": {
   "display_name": "base",
   "language": "python",
   "name": "python3"
  },
  "language_info": {
   "codemirror_mode": {
    "name": "ipython",
    "version": 3
   },
   "file_extension": ".py",
   "mimetype": "text/x-python",
   "name": "python",
   "nbconvert_exporter": "python",
   "pygments_lexer": "ipython3",
   "version": "3.8.8"
  },
  "orig_nbformat": 4,
  "vscode": {
   "interpreter": {
    "hash": "3a7d59d194c3903f94b9f2ad4fd1ee38f8c30154b50ed9a2d46d4e265ea47c31"
   }
  }
 },
 "nbformat": 4,
 "nbformat_minor": 2
}
