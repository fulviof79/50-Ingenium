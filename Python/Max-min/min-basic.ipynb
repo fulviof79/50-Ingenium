{
 "cells": [
  {
   "cell_type": "code",
   "execution_count": 1,
   "metadata": {},
   "outputs": [],
   "source": [
    "import matplotlib.pyplot as plt\n",
    "import numpy as np\n",
    "\n",
    "\n"
   ]
  },
  {
   "cell_type": "code",
   "execution_count": 11,
   "metadata": {},
   "outputs": [
    {
     "name": "stdout",
     "output_type": "stream",
     "text": [
      "Starting the search at 1\n",
      "Found a local maximum at 3.0948500982142815e+26\n"
     ]
    }
   ],
   "source": [
    "#Function to analyze\n",
    "def f(x):\n",
    "    return (x**3+5*x**2+3*x-6)\n",
    "\n",
    "#Numerical approximation of derivative\n",
    "def ndf(x, derivative_precision=0.01):\n",
    "    return (f(x+derivative_precision)-f(x))/derivative_precision\n",
    "\n",
    "\n",
    "#Initial guess\n",
    "initial_guess=1\n",
    "\n",
    "#define Parameters\n",
    "#precision\n",
    "delta=1e-10\n",
    "#Max number of iterations\n",
    "max_iterations=10000\n",
    "\n",
    "#Learning rate\n",
    "learning_rate=0.01\n",
    "\n",
    "\n",
    "guess=initial_guess\n",
    "for n in range(max_iterations):\n",
    "    #Follow descent direction\n",
    "    next_guess = guess + learning_rate*( ndf(guess))\n",
    "    \n",
    "    #Stop id desired precision in reached\n",
    "    if abs(f(next_guess)-f(guess))  < delta:\n",
    "        break\n",
    "    \n",
    "    guess=next_guess\n",
    "   \n",
    "#Print results\n",
    "print(\"Starting the search at {}\".format(initial_guess))\n",
    "print(\"Found a local maximum at {}\".format(guess) )"
   ]
  },
  {
   "cell_type": "code",
   "execution_count": 9,
   "metadata": {},
   "outputs": [
    {
     "data": {
      "image/png": "[encoded data removed]",
      "text/plain": [
       "<Figure size 432x288 with 1 Axes>"
      ]
     },
     "metadata": {
      "needs_background": "light"
     },
     "output_type": "display_data"
    }
   ],
   "source": [
    "#Plot\n",
    "#Plot parameter, \n",
    "plot_xmin=-5\n",
    "plot_xmax=5\n",
    "total_points=1000\n",
    "\n",
    "xvalues= np.linspace(plot_xmin,plot_xmax,total_points)\n",
    "yvalues = f(xvalues)\n",
    "\n",
    "plt.axhline(0, color='black',linestyle='dashed')\n",
    "plt.axvline(0,color='black',linestyle='dashed')\n",
    "plt.plot(xvalues,yvalues)\n",
    "plt.scatter(guess,f(guess), color='r')\n",
    "plt.ylim(-10, 10)\n",
    "plt.show()"
   ]
  },
  {
   "cell_type": "code",
   "execution_count": null,
   "metadata": {},
   "outputs": [],
   "source": []
  }
 ],
 "metadata": {
  "kernelspec": {
   "display_name": "base",
   "language": "python",
   "name": "python3"
  },
  "language_info": {
   "codemirror_mode": {
    "name": "ipython",
    "version": 3
   },
   "file_extension": ".py",
   "mimetype": "text/x-python",
   "name": "python",
   "nbconvert_exporter": "python",
   "pygments_lexer": "ipython3",
   "version": "3.8.8"
  },
  "orig_nbformat": 4,
  "vscode": {
   "interpreter": {
    "hash": "3a7d59d194c3903f94b9f2ad4fd1ee38f8c30154b50ed9a2d46d4e265ea47c31"
   }
  }
 },
 "nbformat": 4,
 "nbformat_minor": 2
}
