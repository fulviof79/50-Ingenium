{
 "cells": [
  {
   "cell_type": "code",
   "execution_count": 1,
   "metadata": {},
   "outputs": [],
   "source": [
    "import matplotlib.pyplot as plt\n",
    "import numpy as np\n",
    "\n",
    "\n"
   ]
  },
  {
   "attachments": {},
   "cell_type": "markdown",
   "metadata": {},
   "source": [
    "# Volume cono \n",
    "\n",
    "raggio $R$ e altezza $h$\n",
    "\n",
    "\n",
    "\n",
    "ad una distanza $x$ dal vertice il disco avrà una raggio $R(x)=\\frac{R}{h}x$\n",
    "\n",
    "quindi un'area $A(x)=\\pi  \\left(\\frac{R}{h}x\\right)^2=\\pi \\frac{R^2}{h^2}x^2$"
   ]
  },
  {
   "cell_type": "code",
   "execution_count": 40,
   "metadata": {},
   "outputs": [],
   "source": [
    "radius = 5\n",
    "height= 4\n",
    "\n",
    "def A(radius,height,x):\n",
    "    return (np.pi * radius**2 / height **2 * x**2)\n",
    "\n",
    "def volume(radius,height,slices):\n",
    "    dx=np.linspace(start=height,stop=0,num=slices,endpoint=False)\n",
    "    current_volume=0\n",
    "    for x_position in dx:\n",
    "        current_volume=current_volume+A(radius,height,x_position)*dx[-1]\n",
    "\n",
    "    return current_volume"
   ]
  },
  {
   "cell_type": "code",
   "execution_count": 46,
   "metadata": {},
   "outputs": [
    {
     "data": {
      "text/plain": [
       "104.7199122023586"
      ]
     },
     "execution_count": 46,
     "metadata": {},
     "output_type": "execute_result"
    }
   ],
   "source": [
    "volume(5,4,1000000)"
   ]
  },
  {
   "cell_type": "code",
   "execution_count": null,
   "metadata": {},
   "outputs": [],
   "source": []
  }
 ],
 "metadata": {
  "kernelspec": {
   "display_name": "base",
   "language": "python",
   "name": "python3"
  },
  "language_info": {
   "codemirror_mode": {
    "name": "ipython",
    "version": 3
   },
   "file_extension": ".py",
   "mimetype": "text/x-python",
   "name": "python",
   "nbconvert_exporter": "python",
   "pygments_lexer": "ipython3",
   "version": "3.8.8"
  },
  "orig_nbformat": 4,
  "vscode": {
   "interpreter": {
    "hash": "3a7d59d194c3903f94b9f2ad4fd1ee38f8c30154b50ed9a2d46d4e265ea47c31"
   }
  }
 },
 "nbformat": 4,
 "nbformat_minor": 2
}
